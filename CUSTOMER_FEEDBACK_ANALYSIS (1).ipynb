{
 "cells": [
  {
   "cell_type": "code",
   "execution_count": 7,
   "id": "b6fc0e94-e966-4ef1-bdf0-7251c50533a4",
   "metadata": {},
   "outputs": [
    {
     "name": "stdout",
     "output_type": "stream",
     "text": [
      "SUCCESSFULL\n"
     ]
    }
   ],
   "source": [
    "import pandas as pd\n",
    "print('SUCCESSFULL')"
   ]
  },
  {
   "cell_type": "code",
   "execution_count": 8,
   "id": "72c34d5e-f5c9-429d-a7b1-7b267463991c",
   "metadata": {},
   "outputs": [
    {
     "data": {
      "text/html": [
       "<div>\n",
       "<style scoped>\n",
       "    .dataframe tbody tr th:only-of-type {\n",
       "        vertical-align: middle;\n",
       "    }\n",
       "\n",
       "    .dataframe tbody tr th {\n",
       "        vertical-align: top;\n",
       "    }\n",
       "\n",
       "    .dataframe thead th {\n",
       "        text-align: right;\n",
       "    }\n",
       "</style>\n",
       "<table border=\"1\" class=\"dataframe\">\n",
       "  <thead>\n",
       "    <tr style=\"text-align: right;\">\n",
       "      <th></th>\n",
       "      <th>Date</th>\n",
       "      <th>Customer ID</th>\n",
       "      <th>Region</th>\n",
       "      <th>Product</th>\n",
       "      <th>Support Rating</th>\n",
       "      <th>Product Rating</th>\n",
       "      <th>Comments</th>\n",
       "    </tr>\n",
       "  </thead>\n",
       "  <tbody>\n",
       "    <tr>\n",
       "      <th>0</th>\n",
       "      <td>2024-01-05</td>\n",
       "      <td>CUST001</td>\n",
       "      <td>North</td>\n",
       "      <td>Software A</td>\n",
       "      <td>4</td>\n",
       "      <td>5</td>\n",
       "      <td>Quick resolution</td>\n",
       "    </tr>\n",
       "    <tr>\n",
       "      <th>1</th>\n",
       "      <td>2024-01-07</td>\n",
       "      <td>CUST002</td>\n",
       "      <td>South</td>\n",
       "      <td>Software B</td>\n",
       "      <td>3</td>\n",
       "      <td>4</td>\n",
       "      <td>Some bugs found</td>\n",
       "    </tr>\n",
       "    <tr>\n",
       "      <th>2</th>\n",
       "      <td>2024-01-09</td>\n",
       "      <td>CUST003</td>\n",
       "      <td>East</td>\n",
       "      <td>Software C</td>\n",
       "      <td>5</td>\n",
       "      <td>5</td>\n",
       "      <td>Very satisfied</td>\n",
       "    </tr>\n",
       "    <tr>\n",
       "      <th>3</th>\n",
       "      <td>2024-02-01</td>\n",
       "      <td>CUST004</td>\n",
       "      <td>North</td>\n",
       "      <td>Software A</td>\n",
       "      <td>4</td>\n",
       "      <td>4</td>\n",
       "      <td>Support was helpful</td>\n",
       "    </tr>\n",
       "    <tr>\n",
       "      <th>4</th>\n",
       "      <td>2024-02-10</td>\n",
       "      <td>CUST005</td>\n",
       "      <td>South</td>\n",
       "      <td>Software B</td>\n",
       "      <td>2</td>\n",
       "      <td>3</td>\n",
       "      <td>Could be improved</td>\n",
       "    </tr>\n",
       "  </tbody>\n",
       "</table>\n",
       "</div>"
      ],
      "text/plain": [
       "         Date Customer ID Region     Product  Support Rating  Product Rating  \\\n",
       "0  2024-01-05     CUST001  North  Software A               4               5   \n",
       "1  2024-01-07     CUST002  South  Software B               3               4   \n",
       "2  2024-01-09     CUST003   East  Software C               5               5   \n",
       "3  2024-02-01     CUST004  North  Software A               4               4   \n",
       "4  2024-02-10     CUST005  South  Software B               2               3   \n",
       "\n",
       "              Comments  \n",
       "0     Quick resolution  \n",
       "1      Some bugs found  \n",
       "2       Very satisfied  \n",
       "3  Support was helpful  \n",
       "4    Could be improved  "
      ]
     },
     "execution_count": 8,
     "metadata": {},
     "output_type": "execute_result"
    }
   ],
   "source": [
    "feedback_df =pd.read_csv('customer_feedback_scores.csv')\n",
    "feedback_df.head()"
   ]
  },
  {
   "cell_type": "code",
   "execution_count": 9,
   "id": "d2e5f5cc-bba7-4461-bddb-73b2f50bae41",
   "metadata": {},
   "outputs": [
    {
     "data": {
      "text/html": [
       "<div>\n",
       "<style scoped>\n",
       "    .dataframe tbody tr th:only-of-type {\n",
       "        vertical-align: middle;\n",
       "    }\n",
       "\n",
       "    .dataframe tbody tr th {\n",
       "        vertical-align: top;\n",
       "    }\n",
       "\n",
       "    .dataframe thead th {\n",
       "        text-align: right;\n",
       "    }\n",
       "</style>\n",
       "<table border=\"1\" class=\"dataframe\">\n",
       "  <thead>\n",
       "    <tr style=\"text-align: right;\">\n",
       "      <th></th>\n",
       "      <th>Product</th>\n",
       "      <th>Support Rating</th>\n",
       "      <th>Product Rating</th>\n",
       "    </tr>\n",
       "  </thead>\n",
       "  <tbody>\n",
       "    <tr>\n",
       "      <th>0</th>\n",
       "      <td>Software A</td>\n",
       "      <td>4.0</td>\n",
       "      <td>4.6</td>\n",
       "    </tr>\n",
       "    <tr>\n",
       "      <th>1</th>\n",
       "      <td>Software B</td>\n",
       "      <td>3.0</td>\n",
       "      <td>3.6</td>\n",
       "    </tr>\n",
       "    <tr>\n",
       "      <th>2</th>\n",
       "      <td>Software C</td>\n",
       "      <td>4.8</td>\n",
       "      <td>4.6</td>\n",
       "    </tr>\n",
       "  </tbody>\n",
       "</table>\n",
       "</div>"
      ],
      "text/plain": [
       "      Product  Support Rating  Product Rating\n",
       "0  Software A             4.0             4.6\n",
       "1  Software B             3.0             3.6\n",
       "2  Software C             4.8             4.6"
      ]
     },
     "execution_count": 9,
     "metadata": {},
     "output_type": "execute_result"
    }
   ],
   "source": [
    "avg_rating=feedback_df.groupby('Product')[['Support Rating','Product Rating']].mean().reset_index()\n",
    "avg_rating.head()"
   ]
  },
  {
   "cell_type": "markdown",
   "id": "f4f1e44f-88a4-40fe-8b77-ea42277acf24",
   "metadata": {},
   "source": [
    "# create a new excel workbook and add a Bar chart"
   ]
  },
  {
   "cell_type": "code",
   "execution_count": 10,
   "id": "d7365388-1ac0-402a-8648-631a8db981ae",
   "metadata": {},
   "outputs": [
    {
     "name": "stdout",
     "output_type": "stream",
     "text": [
      "successfully\n"
     ]
    }
   ],
   "source": [
    "import seaborn as sns\n",
    "print('successfully')"
   ]
  },
  {
   "cell_type": "code",
   "execution_count": 11,
   "id": "97638f39-8014-4fa6-b71f-8e746fc26022",
   "metadata": {},
   "outputs": [
    {
     "ename": "NameError",
     "evalue": "name 'df' is not defined",
     "output_type": "error",
     "traceback": [
      "\u001b[1;31m---------------------------------------------------------------------------\u001b[0m",
      "\u001b[1;31mNameError\u001b[0m                                 Traceback (most recent call last)",
      "Cell \u001b[1;32mIn[11], line 1\u001b[0m\n\u001b[1;32m----> 1\u001b[0m sns\u001b[38;5;241m.\u001b[39mbarplot(x\u001b[38;5;241m=\u001b[39m\u001b[38;5;124m'\u001b[39m\u001b[38;5;124mProduct\u001b[39m\u001b[38;5;124m'\u001b[39m,y\u001b[38;5;241m=\u001b[39m\u001b[38;5;124m'\u001b[39m\u001b[38;5;124mSupport Rating\u001b[39m\u001b[38;5;124m'\u001b[39m,data\u001b[38;5;241m=\u001b[39m\u001b[43mdf\u001b[49m,palette\u001b[38;5;241m=\u001b[39mviridis)\n\u001b[0;32m      2\u001b[0m plt\u001b[38;5;241m.\u001b[39mtitle(\u001b[38;5;124m'\u001b[39m\u001b[38;5;124mCustomer_Feedback_score\u001b[39m\u001b[38;5;124m'\u001b[39m)\n\u001b[0;32m      3\u001b[0m plt\u001b[38;5;241m.\u001b[39mshow()           \n",
      "\u001b[1;31mNameError\u001b[0m: name 'df' is not defined"
     ]
    }
   ],
   "source": [
    "dataframe\n",
    "sns.barplot(x='Product',y='Support Rating',data=df,palette=viridis)\n",
    "plt.title('Customer_Feedback_score')\n",
    "plt.show()           "
   ]
  },
  {
   "cell_type": "code",
   "execution_count": null,
   "id": "9bbcbd71-dfa2-46c2-a7db-1bb1ee5a2521",
   "metadata": {},
   "outputs": [],
   "source": []
  }
 ],
 "metadata": {
  "kernelspec": {
   "display_name": "Python 3 (ipykernel)",
   "language": "python",
   "name": "python3"
  },
  "language_info": {
   "codemirror_mode": {
    "name": "ipython",
    "version": 3
   },
   "file_extension": ".py",
   "mimetype": "text/x-python",
   "name": "python",
   "nbconvert_exporter": "python",
   "pygments_lexer": "ipython3",
   "version": "3.13.2"
  }
 },
 "nbformat": 4,
 "nbformat_minor": 5
}

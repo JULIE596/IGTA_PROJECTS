{
 "cells": [
  {
   "cell_type": "code",
   "execution_count": 34,
   "id": "b6fc0e94-e966-4ef1-bdf0-7251c50533a4",
   "metadata": {},
   "outputs": [
    {
     "name": "stdout",
     "output_type": "stream",
     "text": [
      "SUCCESSFULL\n"
     ]
    }
   ],
   "source": [
    "import pandas as pd\n",
    "import xlsxwriter as xls\n",
    "print('SUCCESSFULL')"
   ]
  },
  {
   "cell_type": "code",
   "execution_count": 35,
   "id": "72c34d5e-f5c9-429d-a7b1-7b267463991c",
   "metadata": {},
   "outputs": [
    {
     "data": {
      "text/html": [
       "<div>\n",
       "<style scoped>\n",
       "    .dataframe tbody tr th:only-of-type {\n",
       "        vertical-align: middle;\n",
       "    }\n",
       "\n",
       "    .dataframe tbody tr th {\n",
       "        vertical-align: top;\n",
       "    }\n",
       "\n",
       "    .dataframe thead th {\n",
       "        text-align: right;\n",
       "    }\n",
       "</style>\n",
       "<table border=\"1\" class=\"dataframe\">\n",
       "  <thead>\n",
       "    <tr style=\"text-align: right;\">\n",
       "      <th></th>\n",
       "      <th>Date</th>\n",
       "      <th>Customer ID</th>\n",
       "      <th>Region</th>\n",
       "      <th>Product</th>\n",
       "      <th>Support Rating</th>\n",
       "      <th>Product Rating</th>\n",
       "      <th>Comments</th>\n",
       "    </tr>\n",
       "  </thead>\n",
       "  <tbody>\n",
       "    <tr>\n",
       "      <th>0</th>\n",
       "      <td>2024-01-05</td>\n",
       "      <td>CUST001</td>\n",
       "      <td>North</td>\n",
       "      <td>Software A</td>\n",
       "      <td>4</td>\n",
       "      <td>5</td>\n",
       "      <td>Quick resolution</td>\n",
       "    </tr>\n",
       "    <tr>\n",
       "      <th>1</th>\n",
       "      <td>2024-01-07</td>\n",
       "      <td>CUST002</td>\n",
       "      <td>South</td>\n",
       "      <td>Software B</td>\n",
       "      <td>3</td>\n",
       "      <td>4</td>\n",
       "      <td>Some bugs found</td>\n",
       "    </tr>\n",
       "    <tr>\n",
       "      <th>2</th>\n",
       "      <td>2024-01-09</td>\n",
       "      <td>CUST003</td>\n",
       "      <td>East</td>\n",
       "      <td>Software C</td>\n",
       "      <td>5</td>\n",
       "      <td>5</td>\n",
       "      <td>Very satisfied</td>\n",
       "    </tr>\n",
       "    <tr>\n",
       "      <th>3</th>\n",
       "      <td>2024-02-01</td>\n",
       "      <td>CUST004</td>\n",
       "      <td>North</td>\n",
       "      <td>Software A</td>\n",
       "      <td>4</td>\n",
       "      <td>4</td>\n",
       "      <td>Support was helpful</td>\n",
       "    </tr>\n",
       "    <tr>\n",
       "      <th>4</th>\n",
       "      <td>2024-02-10</td>\n",
       "      <td>CUST005</td>\n",
       "      <td>South</td>\n",
       "      <td>Software B</td>\n",
       "      <td>2</td>\n",
       "      <td>3</td>\n",
       "      <td>Could be improved</td>\n",
       "    </tr>\n",
       "  </tbody>\n",
       "</table>\n",
       "</div>"
      ],
      "text/plain": [
       "         Date Customer ID Region     Product  Support Rating  Product Rating  \\\n",
       "0  2024-01-05     CUST001  North  Software A               4               5   \n",
       "1  2024-01-07     CUST002  South  Software B               3               4   \n",
       "2  2024-01-09     CUST003   East  Software C               5               5   \n",
       "3  2024-02-01     CUST004  North  Software A               4               4   \n",
       "4  2024-02-10     CUST005  South  Software B               2               3   \n",
       "\n",
       "              Comments  \n",
       "0     Quick resolution  \n",
       "1      Some bugs found  \n",
       "2       Very satisfied  \n",
       "3  Support was helpful  \n",
       "4    Could be improved  "
      ]
     },
     "execution_count": 35,
     "metadata": {},
     "output_type": "execute_result"
    }
   ],
   "source": [
    "feedback_df =pd.read_csv('customer_feedback_scores.csv')\n",
    "feedback_df.head()"
   ]
  },
  {
   "cell_type": "markdown",
   "id": "9c821cc8-a731-4e88-a4f4-1a0f1c0714e6",
   "metadata": {},
   "source": [
    "# FINDING AVERAGE RATING OF SUPPORT RATING AND PRODUCT RATING"
   ]
  },
  {
   "cell_type": "code",
   "execution_count": 36,
   "id": "d2e5f5cc-bba7-4461-bddb-73b2f50bae41",
   "metadata": {},
   "outputs": [
    {
     "data": {
      "text/html": [
       "<div>\n",
       "<style scoped>\n",
       "    .dataframe tbody tr th:only-of-type {\n",
       "        vertical-align: middle;\n",
       "    }\n",
       "\n",
       "    .dataframe tbody tr th {\n",
       "        vertical-align: top;\n",
       "    }\n",
       "\n",
       "    .dataframe thead th {\n",
       "        text-align: right;\n",
       "    }\n",
       "</style>\n",
       "<table border=\"1\" class=\"dataframe\">\n",
       "  <thead>\n",
       "    <tr style=\"text-align: right;\">\n",
       "      <th></th>\n",
       "      <th>Product</th>\n",
       "      <th>Support Rating</th>\n",
       "      <th>Product Rating</th>\n",
       "    </tr>\n",
       "  </thead>\n",
       "  <tbody>\n",
       "    <tr>\n",
       "      <th>0</th>\n",
       "      <td>Software A</td>\n",
       "      <td>4.0</td>\n",
       "      <td>4.6</td>\n",
       "    </tr>\n",
       "    <tr>\n",
       "      <th>1</th>\n",
       "      <td>Software B</td>\n",
       "      <td>3.0</td>\n",
       "      <td>3.6</td>\n",
       "    </tr>\n",
       "    <tr>\n",
       "      <th>2</th>\n",
       "      <td>Software C</td>\n",
       "      <td>4.8</td>\n",
       "      <td>4.6</td>\n",
       "    </tr>\n",
       "  </tbody>\n",
       "</table>\n",
       "</div>"
      ],
      "text/plain": [
       "      Product  Support Rating  Product Rating\n",
       "0  Software A             4.0             4.6\n",
       "1  Software B             3.0             3.6\n",
       "2  Software C             4.8             4.6"
      ]
     },
     "execution_count": 36,
     "metadata": {},
     "output_type": "execute_result"
    }
   ],
   "source": [
    "avg_rating=feedback_df.groupby('Product')[['Support Rating','Product Rating']].mean().reset_index()\n",
    "avg_rating.head()"
   ]
  },
  {
   "cell_type": "markdown",
   "id": "f4f1e44f-88a4-40fe-8b77-ea42277acf24",
   "metadata": {},
   "source": [
    "# create a new excel workbook and add a Bar chart"
   ]
  },
  {
   "cell_type": "code",
   "execution_count": 37,
   "id": "d7365388-1ac0-402a-8648-631a8db981ae",
   "metadata": {},
   "outputs": [
    {
     "name": "stdout",
     "output_type": "stream",
     "text": [
      "successfully\n"
     ]
    }
   ],
   "source": [
    "import seaborn as sns\n",
    "print('successfully')"
   ]
  },
  {
   "cell_type": "code",
   "execution_count": 41,
   "id": "1eb4d2e1-800d-4804-89a6-af554952700c",
   "metadata": {},
   "outputs": [],
   "source": [
    "writer = pd.ExcelWriter('Feedback _score.xlsx',engine='xlsxwriter')"
   ]
  },
  {
   "cell_type": "markdown",
   "id": "4cf50bf2-3767-4047-ba5f-cc71acba1095",
   "metadata": {},
   "source": [
    "# commiting file to Excel"
   ]
  },
  {
   "cell_type": "code",
   "execution_count": 42,
   "id": "958733fc-2b7c-4ef4-9a95-c832a28082b3",
   "metadata": {},
   "outputs": [],
   "source": [
    "avg_rating.to_excel(writer,sheet_name ='Feedback_score_with_Bar_chart',index=False)"
   ]
  },
  {
   "cell_type": "code",
   "execution_count": null,
   "id": "9bbcbd71-dfa2-46c2-a7db-1bb1ee5a2521",
   "metadata": {},
   "outputs": [],
   "source": [
    "workbook = writer.book\n",
    "worksheet = writer.sheets['Feedback_scores_with_Bar_Chart']\n",
    "\n",
    "chart= workbook.add_chart({'type':'column'})\n",
    "\n",
    "chart.add_series({\n",
    "    'name':'Supporting Rating',\n",
    "    'categories': ['Feedback_scores_with_bar_chart',1,0,len(avg_rating),0],\n",
    "\n",
    "    'values':['Feedback_scores_with_bar_chart',1,2,len(avg_rating),2],\n",
    "})\n",
    "\n",
    "\n",
    "chart.add_series({\n",
    "    'name':'Product Rating',\n",
    "    'categories':['Feedback_scores_with_bar_chart',1,0,len(avg_rating),0],\n",
    "    'values':['Feedback_scores_with_bar_chart',1,2,len(avg_rating),1],\n",
    "})\n",
    "\n",
    "chart.set_title({'name':'Average Customer Rating'})\n",
    "chart.set_x_axis({'name':'Product'})\n",
    "chart.set_y_axis({'name':'Average Rating'})\n",
    "\n",
    "worksheet.insert_chart('G2',chart)\n",
    "writer.close()\n"
   ]
  },
  {
   "cell_type": "code",
   "execution_count": null,
   "id": "3dd7a168-5425-46d3-9e24-95895097d71c",
   "metadata": {},
   "outputs": [],
   "source": []
  }
 ],
 "metadata": {
  "kernelspec": {
   "display_name": "Python 3 (ipykernel)",
   "language": "python",
   "name": "python3"
  },
  "language_info": {
   "codemirror_mode": {
    "name": "ipython",
    "version": 3
   },
   "file_extension": ".py",
   "mimetype": "text/x-python",
   "name": "python",
   "nbconvert_exporter": "python",
   "pygments_lexer": "ipython3",
   "version": "3.13.2"
  }
 },
 "nbformat": 4,
 "nbformat_minor": 5
}
